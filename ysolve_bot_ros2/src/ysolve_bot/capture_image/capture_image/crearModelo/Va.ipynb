{
  "cells": [
    {
      "cell_type": "code",
      "execution_count": 1,
      "metadata": {
        "colab": {
          "base_uri": "https://localhost:8080/",
          "height": 54
        },
        "colab_type": "code",
        "id": "M3OBXeh6VWr0",
        "outputId": "3f7bd6d4-e5bc-4fd2-c6b2-925995be836f"
      },
      "outputs": [
        {
          "name": "stdout",
          "output_type": "stream",
          "text": [
            "Found 980 images belonging to 2 classes.\n",
            "Found 239 images belonging to 2 classes.\n"
          ]
        }
      ],
      "source": [
        "import tensorflow as tf\n",
        "import keras_preprocessing\n",
        "from keras_preprocessing import image\n",
        "from keras_preprocessing.image import ImageDataGenerator\n",
        "import shutil\n",
        "VALIDATION_DIR = \"C:/Users/dbs99/Downloads/fire-detection-master1/fire-detection-master/Datasets 1-2/Validation\"\n",
        "TRAINING_DIR  = \"C:/Users/dbs99/Downloads/fire-detection-master1/fire-detection-master/Datasets 1-2/Training\"\n",
        "\n",
        "training_datagen = ImageDataGenerator(rescale=1./255,\n",
        "\t\t\t\t\t\t\t\t\t\t\t\t\t\t\t\t\t\t\tzoom_range=0.15,\n",
        "\t\t\t\t\t\t\t\t\t\t\t\t\t\t\t\t\t\t\thorizontal_flip=True,\n",
        "                                      fill_mode='nearest')\n",
        "\n",
        "validation_datagen = ImageDataGenerator(rescale = 1./255)\n",
        "\n",
        "train_generator = training_datagen.flow_from_directory(\n",
        "\tTRAINING_DIR,\n",
        "\ttarget_size=(224,224),\n",
        "\tshuffle = True,\n",
        "\tclass_mode='categorical',\n",
        "  batch_size = 128\n",
        ")\n",
        "\n",
        "validation_generator = validation_datagen.flow_from_directory(\n",
        "\tVALIDATION_DIR,\n",
        "\ttarget_size=(224,224),\n",
        "\tclass_mode='categorical',\n",
        "\tshuffle = True,\n",
        "  batch_size= 128\n",
        ")"
      ]
    },
    {
      "cell_type": "code",
      "execution_count": 24,
      "metadata": {
        "colab": {
          "base_uri": "https://localhost:8080/",
          "height": 74
        },
        "colab_type": "code",
        "id": "HH1NABoFzDd0",
        "outputId": "f5c9368f-3cd9-4c49-fcc3-f3182e15ad9b"
      },
      "outputs": [],
      "source": [
        "from tensorflow.keras.applications.inception_v3 import InceptionV3\n",
        "from tensorflow.keras.preprocessing import image\n",
        "from tensorflow.keras.models import Model\n",
        "from tensorflow.keras.layers import Dense, GlobalAveragePooling2D, Input, Dropout\n",
        "\n",
        "input_tensor = Input(shape=(224, 224, 3))\n",
        "\n",
        "base_model = InceptionV3(input_tensor=input_tensor, weights='imagenet', include_top=False)\n",
        "\n",
        "# add a global spatial average pooling layer\n",
        "x = base_model.output\n",
        "x = GlobalAveragePooling2D()(x)\n",
        "x = Dense(2048, activation='relu')(x)\n",
        "x = Dropout(0.25)(x)\n",
        "x = Dense(1024, activation='relu')(x)\n",
        "x = Dropout(0.2)(x)\n",
        "predictions = Dense(2, activation='softmax')(x)\n",
        "\n",
        "model = Model(inputs=base_model.input, outputs=predictions)\n",
        "\n",
        "for layer in base_model.layers:\n",
        "    layer.trainable = False\n",
        "\n",
        "model.compile(optimizer='rmsprop', loss='categorical_crossentropy', metrics=['acc'])"
      ]
    },
    {
      "cell_type": "code",
      "execution_count": 25,
      "metadata": {
        "colab": {
          "base_uri": "https://localhost:8080/",
          "height": 745
        },
        "colab_type": "code",
        "id": "l5Uua4-UUP5k",
        "outputId": "c2ddabee-31d9-4d61-b4f2-2ef5231e2acb"
      },
      "outputs": [
        {
          "name": "stdout",
          "output_type": "stream",
          "text": [
            "Epoch 1/20\n",
            " 8/14 [================>.............] - ETA: 44s - loss: 9.3833 - acc: 0.6061 WARNING:tensorflow:Your input ran out of data; interrupting training. Make sure that your dataset or generator can generate at least `steps_per_epoch * epochs` batches (in this case, 280 batches). You may need to use the repeat() function when building your dataset.\n",
            "WARNING:tensorflow:Your input ran out of data; interrupting training. Make sure that your dataset or generator can generate at least `steps_per_epoch * epochs` batches (in this case, 14 batches). You may need to use the repeat() function when building your dataset.\n",
            "14/14 [==============================] - 90s 5s/step - loss: 9.3833 - acc: 0.6061 - val_loss: 0.2164 - val_acc: 0.9414\n"
          ]
        }
      ],
      "source": [
        "class myCallback(tf.keras.callbacks.Callback):\n",
        "  def on_epoch_end(self, epoch, logs={}):\n",
        "    if(logs.get('val_loss')<=0.1099 and logs.get('loss')<=0.1099):\n",
        "      print('/n\\n Reached The Destination!')\n",
        "      #self.model.stop_training = True\n",
        "callbacks = myCallback()\n",
        "\n",
        "history = model.fit(\n",
        "    train_generator,\n",
        "    steps_per_epoch = 14,\n",
        "    epochs = 20,\n",
        "    validation_data = validation_generator,\n",
        "    validation_steps = 14,\n",
        "    callbacks=[callbacks]\n",
        ")"
      ]
    },
    {
      "cell_type": "code",
      "execution_count": 28,
      "metadata": {
        "colab": {
          "base_uri": "https://localhost:8080/",
          "height": 399
        },
        "colab_type": "code",
        "id": "quS_DTwyBT1K",
        "outputId": "9cd463ed-a852-4368-ca52-316938eb2e7e"
      },
      "outputs": [
        {
          "name": "stdout",
          "output_type": "stream",
          "text": [
            "Epoch 1/5\n",
            "7/7 [==============================] - ETA: 0s - loss: 0.5658 - acc: 0.8016 \n",
            "\n",
            " Reached The Destination!\n",
            "7/7 [==============================] - 91s 12s/step - loss: 0.5658 - acc: 0.8016\n",
            "Epoch 2/5\n",
            "7/7 [==============================] - ETA: 0s - loss: 0.5593 - acc: 0.8040 \n",
            "\n",
            " Reached The Destination!\n",
            "7/7 [==============================] - 79s 11s/step - loss: 0.5593 - acc: 0.8040\n",
            "Epoch 3/5\n",
            "7/7 [==============================] - ETA: 0s - loss: 0.5497 - acc: 0.7817 \n",
            "\n",
            " Reached The Destination!\n",
            "7/7 [==============================] - 79s 11s/step - loss: 0.5497 - acc: 0.7817\n",
            "Epoch 4/5\n",
            "7/7 [==============================] - ETA: 0s - loss: 0.5291 - acc: 0.8069 \n",
            "\n",
            " Reached The Destination!\n",
            "7/7 [==============================] - 71s 10s/step - loss: 0.5291 - acc: 0.8069\n",
            "Epoch 5/5\n",
            "7/7 [==============================] - ETA: 0s - loss: 0.5275 - acc: 0.7676 \n",
            "\n",
            " Reached The Destination!\n",
            "7/7 [==============================] - 67s 9s/step - loss: 0.5275 - acc: 0.7676\n",
            "311\n",
            "<keras.callbacks.History object at 0x000001DCBD315160>\n"
          ]
        }
      ],
      "source": [
        "\n",
        "for layer in model.layers[:249]:\n",
        "   layer.trainable = False\n",
        "for layer in model.layers[249:]:\n",
        "   layer.trainable = True\n",
        "\n",
        "from tensorflow.keras.optimizers import SGD\n",
        "model.compile(optimizer=SGD(lr=0.0001, momentum=0.9), loss='categorical_crossentropy', metrics=['acc'])\n",
        "\n",
        "\n",
        "class myCallback(tf.keras.callbacks.Callback):\n",
        "  def on_epoch_end(self, epoch, logs={}):\n",
        "   print('\\n\\n End epoch!')\n",
        "callbacks = myCallback()\n",
        "\n",
        "history = model.fit(\n",
        "    train_generator,\n",
        "    steps_per_epoch = 7,\n",
        "    epochs = 5,\n",
        "    validation_data = validation_generator,\n",
        "    validation_steps = 7,\n",
        "    callbacks=[callbacks]\n",
        ")\n",
        "print(len(base_model.layers))\n",
        "print(history)"
      ]
    },
    {
      "cell_type": "code",
      "execution_count": 44,
      "metadata": {
        "colab": {
          "base_uri": "https://localhost:8080/",
          "height": 581
        },
        "colab_type": "code",
        "id": "MfavSDNZkKXq",
        "outputId": "e22978a0-ba3c-4ec2-f226-e12f06abe502"
      },
      "outputs": [
        {
          "name": "stdout",
          "output_type": "stream",
          "text": [
            "dict_keys(['loss', 'acc', 'val_loss', 'val_acc'])\n",
            "{'loss': [0.6044648289680481, 0.4169583022594452, 0.3299456238746643, 0.26732495427131653, 0.25856757164001465, 0.2327064573764801, 0.1954445242881775], 'acc': [0.6596243977546692, 0.7689732313156128, 0.8708920478820801, 0.8990610241889954, 0.9025821685791016, 0.9107981324195862, 0.9284037351608276], 'val_loss': [0.48774251341819763], 'val_acc': [0.715481162071228]}\n"
          ]
        },
        {
          "data": {
            "image/png": "[encoded data removed]",
            "text/plain": [
              "<Figure size 432x288 with 1 Axes>"
            ]
          },
          "metadata": {
            "needs_background": "light"
          },
          "output_type": "display_data"
        },
        {
          "data": {
            "text/plain": [
              "<Figure size 432x288 with 0 Axes>"
            ]
          },
          "metadata": {},
          "output_type": "display_data"
        },
        {
          "data": {
            "image/png": "[encoded data removed]",
            "text/plain": [
              "<Figure size 432x288 with 1 Axes>"
            ]
          },
          "metadata": {
            "needs_background": "light"
          },
          "output_type": "display_data"
        },
        {
          "data": {
            "text/plain": [
              "<Figure size 432x288 with 0 Axes>"
            ]
          },
          "metadata": {},
          "output_type": "display_data"
        }
      ],
      "source": [
        "%matplotlib inline\n",
        "import matplotlib.pyplot as plt\n",
        "history_dict = history.history\n",
        "print(history_dict.keys())\n",
        "\n",
        "acc = history.history['acc']\n",
        "print(history.history)\n",
        "loss = history.history['loss']\n",
        "\n",
        "epochs = range(len(acc))\n",
        "\n",
        "plt.plot(epochs, acc, 'g', label='Training accuracy')\n",
        "plt.title('Training and validation accuracy')\n",
        "\n",
        "plt.legend(loc=0)\n",
        "plt.figure()\n",
        "plt.show()\n",
        "\n",
        "plt.plot(epochs, loss, 'r', label='Training loss')\n",
        "plt.title('Training and validation loss')\n",
        "\n",
        "plt.legend(loc=0)\n",
        "plt.figure()\n",
        "plt.show()"
      ]
    },
    {
      "cell_type": "code",
      "execution_count": 2,
      "metadata": {
        "colab": {},
        "colab_type": "code",
        "id": "lsD4EFzQNSSx"
      },
      "outputs": [
        {
          "name": "stdout",
          "output_type": "stream",
          "text": [
            "Model: \"sequential\"\n",
            "_________________________________________________________________\n",
            " Layer (type)                Output Shape              Param #   \n",
            "=================================================================\n",
            " conv2d (Conv2D)             (None, 54, 54, 96)        34944     \n",
            "                                                                 \n",
            " max_pooling2d (MaxPooling2D  (None, 26, 26, 96)       0         \n",
            " )                                                               \n",
            "                                                                 \n",
            " conv2d_1 (Conv2D)           (None, 22, 22, 256)       614656    \n",
            "                                                                 \n",
            " max_pooling2d_1 (MaxPooling  (None, 10, 10, 256)      0         \n",
            " 2D)                                                             \n",
            "                                                                 \n",
            " conv2d_2 (Conv2D)           (None, 6, 6, 384)         2457984   \n",
            "                                                                 \n",
            " max_pooling2d_2 (MaxPooling  (None, 2, 2, 384)        0         \n",
            " 2D)                                                             \n",
            "                                                                 \n",
            " flatten (Flatten)           (None, 1536)              0         \n",
            "                                                                 \n",
            " dropout (Dropout)           (None, 1536)              0         \n",
            "                                                                 \n",
            " dense (Dense)               (None, 2048)              3147776   \n",
            "                                                                 \n",
            " dropout_1 (Dropout)         (None, 2048)              0         \n",
            "                                                                 \n",
            " dense_1 (Dense)             (None, 1024)              2098176   \n",
            "                                                                 \n",
            " dropout_2 (Dropout)         (None, 1024)              0         \n",
            "                                                                 \n",
            " dense_2 (Dense)             (None, 2)                 2050      \n",
            "                                                                 \n",
            "=================================================================\n",
            "Total params: 8,355,586\n",
            "Trainable params: 8,355,586\n",
            "Non-trainable params: 0\n",
            "_________________________________________________________________\n"
          ]
        },
        {
          "name": "stderr",
          "output_type": "stream",
          "text": [
            "d:\\Users\\dbs99\\anaconda3\\lib\\site-packages\\keras\\optimizers\\optimizer_v2\\adam.py:110: UserWarning: The `lr` argument is deprecated, use `learning_rate` instead.\n",
            "  super(Adam, self).__init__(name, **kwargs)\n"
          ]
        },
        {
          "name": "stdout",
          "output_type": "stream",
          "text": [
            "Epoch 1/7\n",
            "7/7 [==============================] - ETA: 0s - loss: 0.6048 - acc: 0.6796WARNING:tensorflow:Your input ran out of data; interrupting training. Make sure that your dataset or generator can generate at least `steps_per_epoch * epochs` batches (in this case, 7 batches). You may need to use the repeat() function when building your dataset.\n",
            "7/7 [==============================] - 70s 10s/step - loss: 0.6048 - acc: 0.6796 - val_loss: 0.5164 - val_acc: 0.7155\n",
            "Epoch 2/7\n",
            "7/7 [==============================] - 53s 8s/step - loss: 0.4274 - acc: 0.7701\n",
            "Epoch 3/7\n",
            "7/7 [==============================] - 49s 7s/step - loss: 0.3268 - acc: 0.8815\n",
            "Epoch 4/7\n",
            "7/7 [==============================] - 47s 6s/step - loss: 0.2970 - acc: 0.8721\n",
            "Epoch 5/7\n",
            "7/7 [==============================] - 48s 7s/step - loss: 0.3006 - acc: 0.8744\n",
            "Epoch 6/7\n",
            "7/7 [==============================] - 48s 7s/step - loss: 0.2611 - acc: 0.8991\n",
            "Epoch 7/7\n",
            "7/7 [==============================] - 50s 7s/step - loss: 0.2499 - acc: 0.9062\n",
            "[0.6795774698257446, 0.7700892686843872, 0.8814554214477539, 0.8720657229423523, 0.8744131326675415, 0.8990610241889954, 0.90625]\n",
            "[0.715481162071228]\n",
            "[0.6048217415809631, 0.42742469906806946, 0.3267787992954254, 0.2969776391983032, 0.30063924193382263, 0.26110318303108215, 0.24985840916633606]\n",
            "[0.5163612365722656]\n"
          ]
        }
      ],
      "source": [
        "from tensorflow.keras.optimizers import RMSprop,Adam\n",
        "#Define the model and selecting features \n",
        "model = tf.keras.models.Sequential([\n",
        "          tf.keras.layers.Conv2D(96, (11,11), strides=(4,4), activation='relu', input_shape=(224, 224, 3)),\n",
        "          tf.keras.layers.MaxPooling2D(pool_size = (3,3), strides=(2,2)),\n",
        "          tf.keras.layers.Conv2D(256, (5,5), activation='relu'),\n",
        "          tf.keras.layers.MaxPooling2D(pool_size = (3,3), strides=(2,2)),\n",
        "          tf.keras.layers.Conv2D(384, (5,5), activation='relu'),\n",
        "          tf.keras.layers.MaxPooling2D(pool_size = (3,3), strides=(2,2)),\n",
        "          tf.keras.layers.Flatten(),\n",
        "          tf.keras.layers.Dropout(0.2),\n",
        "          tf.keras.layers.Dense(2048, activation='relu'),\n",
        "          tf.keras.layers.Dropout(0.25),\n",
        "          tf.keras.layers.Dense(1024, activation='relu'),\n",
        "          tf.keras.layers.Dropout(0.2),\n",
        "          tf.keras.layers.Dense(2, activation='softmax')\n",
        "])\n",
        "#Compile model \n",
        "model.compile(loss='categorical_crossentropy',\n",
        "              optimizer=Adam(lr=0.0001),\n",
        "              metrics=['acc'])\n",
        "model.summary()\n",
        "\n",
        "history = model.fit(\n",
        "    train_generator,\n",
        "    steps_per_epoch =7,\n",
        "    epochs = 7,\n",
        "    validation_data = validation_generator,\n",
        "    validation_steps =7\n",
        "    #callbacks=[callbacks]\n",
        ")\n",
        "model.save(\"./model/rps.h5\")\n",
        "\n",
        "%matplotlib inline\n",
        "import matplotlib.pyplot as plt\n",
        "acc = history.history['acc']\n",
        "val_acc = history.history['val_acc']\n",
        "loss = history.history['loss']\n",
        "val_loss = history.history['val_loss']\n",
        "\n",
        "epochs = range(len(acc))\n",
        "print(acc)\n",
        "print(val_acc)\n",
        "print(loss)\n",
        "print(val_loss)"
      ]
    },
    {
      "cell_type": "code",
      "execution_count": 3,
      "metadata": {},
      "outputs": [
        {
          "data": {
            "image/png": "[encoded data removed]",
            "text/plain": [
              "<Figure size 432x288 with 1 Axes>"
            ]
          },
          "metadata": {
            "needs_background": "light"
          },
          "output_type": "display_data"
        },
        {
          "data": {
            "text/plain": [
              "<Figure size 432x288 with 0 Axes>"
            ]
          },
          "metadata": {},
          "output_type": "display_data"
        },
        {
          "data": {
            "image/png": "[encoded data removed]",
            "text/plain": [
              "<Figure size 432x288 with 1 Axes>"
            ]
          },
          "metadata": {
            "needs_background": "light"
          },
          "output_type": "display_data"
        },
        {
          "data": {
            "text/plain": [
              "<Figure size 432x288 with 0 Axes>"
            ]
          },
          "metadata": {},
          "output_type": "display_data"
        }
      ],
      "source": [
        "plt.plot(epochs, acc, 'g', label='Training accuracy')\n",
        "plt.title('Training and validation accuracy')\n",
        "\n",
        "plt.legend(loc=0)\n",
        "plt.figure()\n",
        "plt.show()\n",
        "\n",
        "plt.plot(epochs, loss, 'r', label='Training loss')\n",
        "plt.title('Training and validation loss')\n",
        "\n",
        "plt.legend(loc=0)\n",
        "plt.figure()\n",
        "plt.show()"
      ]
    }
  ],
  "metadata": {
    "accelerator": "GPU",
    "colab": {
      "collapsed_sections": [],
      "name": "InceptionFireDetection.ipynb",
      "provenance": []
    },
    "interpreter": {
      "hash": "fe91586cf7bfe2b2ebea6816f4bb33ddf372c0bc35522f95600b58b6b91f10f3"
    },
    "kernelspec": {
      "display_name": "Python 3.9.7 ('base')",
      "language": "python",
      "name": "python3"
    },
    "language_info": {
      "codemirror_mode": {
        "name": "ipython",
        "version": 3
      },
      "file_extension": ".py",
      "mimetype": "text/x-python",
      "name": "python",
      "nbconvert_exporter": "python",
      "pygments_lexer": "ipython3",
      "version": "3.9.7"
    }
  },
  "nbformat": 4,
  "nbformat_minor": 0
}
